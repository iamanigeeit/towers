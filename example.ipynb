{
 "cells": [
  {
   "cell_type": "code",
   "id": "initial_id",
   "metadata": {
    "collapsed": true,
    "ExecuteTime": {
     "end_time": "2025-06-16T03:01:49.621684Z",
     "start_time": "2025-06-16T03:01:24.375138Z"
    }
   },
   "source": "from toab import *",
   "outputs": [
    {
     "name": "stderr",
     "output_type": "stream",
     "text": [
      "Matplotlib is building the font cache; this may take a moment.\n"
     ]
    }
   ],
   "execution_count": 1
  },
  {
   "metadata": {
    "ExecuteTime": {
     "end_time": "2025-06-16T03:01:50.112733Z",
     "start_time": "2025-06-16T03:01:49.635808Z"
    }
   },
   "cell_type": "code",
   "source": "%matplotlib qt",
   "id": "ee1cd22012db4982",
   "outputs": [],
   "execution_count": 2
  },
  {
   "metadata": {
    "ExecuteTime": {
     "end_time": "2025-06-16T03:01:59.960645Z",
     "start_time": "2025-06-16T03:01:58.405025Z"
    }
   },
   "cell_type": "code",
   "source": "towers = TowersOfAhBoy(5)",
   "id": "803cb23e53ffff05",
   "outputs": [],
   "execution_count": 3
  },
  {
   "metadata": {
    "ExecuteTime": {
     "end_time": "2025-06-16T03:02:51.343749Z",
     "start_time": "2025-06-16T03:02:51.312929Z"
    }
   },
   "cell_type": "code",
   "source": "towers.solve_from_current(target_pole='B')",
   "id": "daab51a6071f1694",
   "outputs": [
    {
     "name": "stdout",
     "output_type": "stream",
     "text": [
      "{'A': [5, 4, 3, 2, 1], 'B': [], 'C': []}\n",
      "Move ring 1 from A to B\n",
      "{'A': [5, 4, 3, 2], 'B': [1], 'C': []}\n",
      "Move ring 2 from A to C\n",
      "{'A': [5, 4, 3], 'B': [1], 'C': [2]}\n",
      "Move ring 1 from B to C\n",
      "{'A': [5, 4, 3], 'B': [], 'C': [2, 1]}\n",
      "Move ring 3 from A to B\n",
      "{'A': [5, 4], 'B': [3], 'C': [2, 1]}\n",
      "Move ring 1 from C to A\n",
      "{'A': [5, 4, 1], 'B': [3], 'C': [2]}\n",
      "Move ring 2 from C to B\n",
      "{'A': [5, 4, 1], 'B': [3, 2], 'C': []}\n",
      "Move ring 1 from A to B\n",
      "{'A': [5, 4], 'B': [3, 2, 1], 'C': []}\n",
      "Move ring 4 from A to C\n",
      "{'A': [5], 'B': [3, 2, 1], 'C': [4]}\n",
      "Move ring 1 from B to C\n",
      "{'A': [5], 'B': [3, 2], 'C': [4, 1]}\n",
      "Move ring 2 from B to A\n",
      "{'A': [5, 2], 'B': [3], 'C': [4, 1]}\n",
      "Move ring 1 from C to A\n",
      "{'A': [5, 2, 1], 'B': [3], 'C': [4]}\n",
      "Move ring 3 from B to C\n",
      "{'A': [5, 2, 1], 'B': [], 'C': [4, 3]}\n",
      "Move ring 1 from A to B\n",
      "{'A': [5, 2], 'B': [1], 'C': [4, 3]}\n",
      "Move ring 2 from A to C\n",
      "{'A': [5], 'B': [1], 'C': [4, 3, 2]}\n",
      "Move ring 1 from B to C\n",
      "{'A': [5], 'B': [], 'C': [4, 3, 2, 1]}\n",
      "Move ring 5 from A to B\n",
      "{'A': [], 'B': [5], 'C': [4, 3, 2, 1]}\n",
      "Move ring 1 from C to A\n",
      "{'A': [1], 'B': [5], 'C': [4, 3, 2]}\n",
      "Move ring 2 from C to B\n",
      "{'A': [1], 'B': [5, 2], 'C': [4, 3]}\n",
      "Move ring 1 from A to B\n",
      "{'A': [], 'B': [5, 2, 1], 'C': [4, 3]}\n",
      "Move ring 3 from C to A\n",
      "{'A': [3], 'B': [5, 2, 1], 'C': [4]}\n",
      "Move ring 1 from B to C\n",
      "{'A': [3], 'B': [5, 2], 'C': [4, 1]}\n",
      "Move ring 2 from B to A\n",
      "{'A': [3, 2], 'B': [5], 'C': [4, 1]}\n",
      "Move ring 1 from C to A\n",
      "{'A': [3, 2, 1], 'B': [5], 'C': [4]}\n",
      "Move ring 4 from C to B\n",
      "{'A': [3, 2, 1], 'B': [5, 4], 'C': []}\n",
      "Move ring 1 from A to B\n",
      "{'A': [3, 2], 'B': [5, 4, 1], 'C': []}\n",
      "Move ring 2 from A to C\n",
      "{'A': [3], 'B': [5, 4, 1], 'C': [2]}\n",
      "Move ring 1 from B to C\n",
      "{'A': [3], 'B': [5, 4], 'C': [2, 1]}\n",
      "Move ring 3 from A to B\n",
      "{'A': [], 'B': [5, 4, 3], 'C': [2, 1]}\n",
      "Move ring 1 from C to A\n",
      "{'A': [1], 'B': [5, 4, 3], 'C': [2]}\n",
      "Move ring 2 from C to B\n",
      "{'A': [1], 'B': [5, 4, 3, 2], 'C': []}\n",
      "Move ring 1 from A to B\n"
     ]
    },
    {
     "data": {
      "text/plain": [
       "31"
      ]
     },
     "execution_count": 4,
     "metadata": {},
     "output_type": "execute_result"
    }
   ],
   "execution_count": 4
  },
  {
   "metadata": {
    "ExecuteTime": {
     "end_time": "2025-06-16T03:07:28.220072Z",
     "start_time": "2025-06-16T03:07:28.090134Z"
    }
   },
   "cell_type": "code",
   "source": "towers.reset(state={'A': [5, 3, 2], 'B': [4, 1], 'C': []})",
   "id": "d177bd5f49e54bbe",
   "outputs": [],
   "execution_count": 7
  },
  {
   "metadata": {
    "ExecuteTime": {
     "end_time": "2025-06-16T03:03:41.493418Z",
     "start_time": "2025-06-16T03:03:41.477287Z"
    }
   },
   "cell_type": "code",
   "source": "towers.solve_from_current(target_pole='B')",
   "id": "8b01488309273814",
   "outputs": [
    {
     "name": "stdout",
     "output_type": "stream",
     "text": [
      "{'A': [5, 3, 2], 'B': [4, 1], 'C': []}\n",
      "Move ring 1 from B to A\n",
      "{'A': [5, 3, 2, 1], 'B': [4], 'C': []}\n",
      "Move ring 4 from B to C\n",
      "{'A': [5, 3, 2, 1], 'B': [], 'C': [4]}\n",
      "Move ring 1 from A to C\n",
      "{'A': [5, 3, 2], 'B': [], 'C': [4, 1]}\n",
      "Move ring 2 from A to B\n",
      "{'A': [5, 3], 'B': [2], 'C': [4, 1]}\n",
      "Move ring 1 from C to B\n",
      "{'A': [5, 3], 'B': [2, 1], 'C': [4]}\n",
      "Move ring 3 from A to C\n",
      "{'A': [5], 'B': [2, 1], 'C': [4, 3]}\n",
      "Move ring 1 from B to A\n",
      "{'A': [5, 1], 'B': [2], 'C': [4, 3]}\n",
      "Move ring 2 from B to C\n",
      "{'A': [5, 1], 'B': [], 'C': [4, 3, 2]}\n",
      "Move ring 1 from A to C\n",
      "{'A': [5], 'B': [], 'C': [4, 3, 2, 1]}\n",
      "Move ring 5 from A to B\n",
      "{'A': [], 'B': [5], 'C': [4, 3, 2, 1]}\n",
      "Move ring 1 from C to A\n",
      "{'A': [1], 'B': [5], 'C': [4, 3, 2]}\n",
      "Move ring 2 from C to B\n",
      "{'A': [1], 'B': [5, 2], 'C': [4, 3]}\n",
      "Move ring 1 from A to B\n",
      "{'A': [], 'B': [5, 2, 1], 'C': [4, 3]}\n",
      "Move ring 3 from C to A\n",
      "{'A': [3], 'B': [5, 2, 1], 'C': [4]}\n",
      "Move ring 1 from B to C\n",
      "{'A': [3], 'B': [5, 2], 'C': [4, 1]}\n",
      "Move ring 2 from B to A\n",
      "{'A': [3, 2], 'B': [5], 'C': [4, 1]}\n",
      "Move ring 1 from C to A\n",
      "{'A': [3, 2, 1], 'B': [5], 'C': [4]}\n",
      "Move ring 4 from C to B\n",
      "{'A': [3, 2, 1], 'B': [5, 4], 'C': []}\n",
      "Move ring 1 from A to B\n",
      "{'A': [3, 2], 'B': [5, 4, 1], 'C': []}\n",
      "Move ring 2 from A to C\n",
      "{'A': [3], 'B': [5, 4, 1], 'C': [2]}\n",
      "Move ring 1 from B to C\n",
      "{'A': [3], 'B': [5, 4], 'C': [2, 1]}\n",
      "Move ring 3 from A to B\n",
      "{'A': [], 'B': [5, 4, 3], 'C': [2, 1]}\n",
      "Move ring 1 from C to A\n",
      "{'A': [1], 'B': [5, 4, 3], 'C': [2]}\n",
      "Move ring 2 from C to B\n",
      "{'A': [1], 'B': [5, 4, 3, 2], 'C': []}\n",
      "Move ring 1 from A to B\n"
     ]
    },
    {
     "data": {
      "text/plain": [
       "25"
      ]
     },
     "execution_count": 6,
     "metadata": {},
     "output_type": "execute_result"
    }
   ],
   "execution_count": 6
  }
 ],
 "metadata": {
  "kernelspec": {
   "display_name": "Python 3",
   "language": "python",
   "name": "python3"
  },
  "language_info": {
   "codemirror_mode": {
    "name": "ipython",
    "version": 2
   },
   "file_extension": ".py",
   "mimetype": "text/x-python",
   "name": "python",
   "nbconvert_exporter": "python",
   "pygments_lexer": "ipython2",
   "version": "2.7.6"
  }
 },
 "nbformat": 4,
 "nbformat_minor": 5
}
