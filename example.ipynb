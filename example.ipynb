{
 "cells": [
  {
   "cell_type": "code",
   "id": "initial_id",
   "metadata": {
    "collapsed": true,
    "ExecuteTime": {
     "end_time": "2025-06-16T08:20:53.216346Z",
     "start_time": "2025-06-16T08:20:51.501675Z"
    }
   },
   "source": "from toab import *",
   "outputs": [],
   "execution_count": 1
  },
  {
   "metadata": {
    "ExecuteTime": {
     "end_time": "2025-06-16T08:21:03.775703Z",
     "start_time": "2025-06-16T08:21:03.667622Z"
    }
   },
   "cell_type": "code",
   "source": "%matplotlib qt",
   "id": "ee1cd22012db4982",
   "outputs": [],
   "execution_count": 2
  },
  {
   "metadata": {
    "ExecuteTime": {
     "end_time": "2025-06-16T08:21:43.250427Z",
     "start_time": "2025-06-16T08:21:43.006132Z"
    }
   },
   "cell_type": "code",
   "source": "towers = TowersOfAhBoy(5, 'C')",
   "id": "803cb23e53ffff05",
   "outputs": [],
   "execution_count": 4
  },
  {
   "metadata": {
    "ExecuteTime": {
     "end_time": "2025-06-16T08:22:00.597522Z",
     "start_time": "2025-06-16T08:22:00.576859Z"
    }
   },
   "cell_type": "code",
   "source": "towers.solve_from_current(target_pole='B')",
   "id": "daab51a6071f1694",
   "outputs": [
    {
     "name": "stdout",
     "output_type": "stream",
     "text": [
      "{'A': [], 'B': [], 'C': [5, 4, 3, 2, 1]}\n",
      "Move ring 1 from C to B\n",
      "{'A': [], 'B': [1], 'C': [5, 4, 3, 2]}\n",
      "Move ring 2 from C to A\n",
      "{'A': [2], 'B': [1], 'C': [5, 4, 3]}\n",
      "Move ring 1 from B to A\n",
      "{'A': [2, 1], 'B': [], 'C': [5, 4, 3]}\n",
      "Move ring 3 from C to B\n",
      "{'A': [2, 1], 'B': [3], 'C': [5, 4]}\n",
      "Move ring 1 from A to C\n",
      "{'A': [2], 'B': [3], 'C': [5, 4, 1]}\n",
      "Move ring 2 from A to B\n",
      "{'A': [], 'B': [3, 2], 'C': [5, 4, 1]}\n",
      "Move ring 1 from C to B\n",
      "{'A': [], 'B': [3, 2, 1], 'C': [5, 4]}\n",
      "Move ring 4 from C to A\n",
      "{'A': [4], 'B': [3, 2, 1], 'C': [5]}\n",
      "Move ring 1 from B to A\n",
      "{'A': [4, 1], 'B': [3, 2], 'C': [5]}\n",
      "Move ring 2 from B to C\n",
      "{'A': [4, 1], 'B': [3], 'C': [5, 2]}\n",
      "Move ring 1 from A to C\n",
      "{'A': [4], 'B': [3], 'C': [5, 2, 1]}\n",
      "Move ring 3 from B to A\n",
      "{'A': [4, 3], 'B': [], 'C': [5, 2, 1]}\n",
      "Move ring 1 from C to B\n",
      "{'A': [4, 3], 'B': [1], 'C': [5, 2]}\n",
      "Move ring 2 from C to A\n",
      "{'A': [4, 3, 2], 'B': [1], 'C': [5]}\n",
      "Move ring 1 from B to A\n",
      "{'A': [4, 3, 2, 1], 'B': [], 'C': [5]}\n",
      "Move ring 5 from C to B\n",
      "{'A': [4, 3, 2, 1], 'B': [5], 'C': []}\n",
      "Move ring 1 from A to C\n",
      "{'A': [4, 3, 2], 'B': [5], 'C': [1]}\n",
      "Move ring 2 from A to B\n",
      "{'A': [4, 3], 'B': [5, 2], 'C': [1]}\n",
      "Move ring 1 from C to B\n",
      "{'A': [4, 3], 'B': [5, 2, 1], 'C': []}\n",
      "Move ring 3 from A to C\n",
      "{'A': [4], 'B': [5, 2, 1], 'C': [3]}\n",
      "Move ring 1 from B to A\n",
      "{'A': [4, 1], 'B': [5, 2], 'C': [3]}\n",
      "Move ring 2 from B to C\n",
      "{'A': [4, 1], 'B': [5], 'C': [3, 2]}\n",
      "Move ring 1 from A to C\n",
      "{'A': [4], 'B': [5], 'C': [3, 2, 1]}\n",
      "Move ring 4 from A to B\n",
      "{'A': [], 'B': [5, 4], 'C': [3, 2, 1]}\n",
      "Move ring 1 from C to B\n",
      "{'A': [], 'B': [5, 4, 1], 'C': [3, 2]}\n",
      "Move ring 2 from C to A\n",
      "{'A': [2], 'B': [5, 4, 1], 'C': [3]}\n",
      "Move ring 1 from B to A\n",
      "{'A': [2, 1], 'B': [5, 4], 'C': [3]}\n",
      "Move ring 3 from C to B\n",
      "{'A': [2, 1], 'B': [5, 4, 3], 'C': []}\n",
      "Move ring 1 from A to C\n",
      "{'A': [2], 'B': [5, 4, 3], 'C': [1]}\n",
      "Move ring 2 from A to B\n",
      "{'A': [], 'B': [5, 4, 3, 2], 'C': [1]}\n",
      "Move ring 1 from C to B\n"
     ]
    },
    {
     "data": {
      "text/plain": [
       "31"
      ]
     },
     "execution_count": 5,
     "metadata": {},
     "output_type": "execute_result"
    }
   ],
   "execution_count": 5
  },
  {
   "metadata": {
    "ExecuteTime": {
     "end_time": "2025-06-16T08:41:25.515288Z",
     "start_time": "2025-06-16T08:41:25.367829Z"
    }
   },
   "cell_type": "code",
   "source": "towers.reset(state={'A': [5, 3, 2], 'B': [4, 1], 'C': []})",
   "id": "d177bd5f49e54bbe",
   "outputs": [],
   "execution_count": 8
  },
  {
   "metadata": {
    "ExecuteTime": {
     "end_time": "2025-06-16T08:41:37.951384Z",
     "start_time": "2025-06-16T08:41:37.925621Z"
    }
   },
   "cell_type": "code",
   "source": "towers.move_ring(2, 'A', 'C')",
   "id": "acf76bee49ee326c",
   "outputs": [
    {
     "name": "stdout",
     "output_type": "stream",
     "text": [
      "{'A': [5, 3, 2], 'B': [4, 1], 'C': []}\n",
      "Move ring 2 from A to C\n"
     ]
    },
    {
     "data": {
      "text/plain": [
       "1"
      ]
     },
     "execution_count": 9,
     "metadata": {},
     "output_type": "execute_result"
    }
   ],
   "execution_count": 9
  },
  {
   "metadata": {
    "ExecuteTime": {
     "end_time": "2025-06-16T08:41:45.282317Z",
     "start_time": "2025-06-16T08:41:45.250488Z"
    }
   },
   "cell_type": "code",
   "source": "towers.solve_from_current(target_pole='B')",
   "id": "8b01488309273814",
   "outputs": [
    {
     "name": "stdout",
     "output_type": "stream",
     "text": [
      "{'A': [5, 3], 'B': [4, 1], 'C': [2]}\n",
      "Move ring 2 from C to A\n",
      "{'A': [5, 3, 2], 'B': [4, 1], 'C': []}\n",
      "Move ring 1 from B to A\n",
      "{'A': [5, 3, 2, 1], 'B': [4], 'C': []}\n",
      "Move ring 4 from B to C\n",
      "{'A': [5, 3, 2, 1], 'B': [], 'C': [4]}\n",
      "Move ring 1 from A to C\n",
      "{'A': [5, 3, 2], 'B': [], 'C': [4, 1]}\n",
      "Move ring 2 from A to B\n",
      "{'A': [5, 3], 'B': [2], 'C': [4, 1]}\n",
      "Move ring 1 from C to B\n",
      "{'A': [5, 3], 'B': [2, 1], 'C': [4]}\n",
      "Move ring 3 from A to C\n",
      "{'A': [5], 'B': [2, 1], 'C': [4, 3]}\n",
      "Move ring 1 from B to A\n",
      "{'A': [5, 1], 'B': [2], 'C': [4, 3]}\n",
      "Move ring 2 from B to C\n",
      "{'A': [5, 1], 'B': [], 'C': [4, 3, 2]}\n",
      "Move ring 1 from A to C\n",
      "{'A': [5], 'B': [], 'C': [4, 3, 2, 1]}\n",
      "Move ring 5 from A to B\n",
      "{'A': [], 'B': [5], 'C': [4, 3, 2, 1]}\n",
      "Move ring 1 from C to A\n",
      "{'A': [1], 'B': [5], 'C': [4, 3, 2]}\n",
      "Move ring 2 from C to B\n",
      "{'A': [1], 'B': [5, 2], 'C': [4, 3]}\n",
      "Move ring 1 from A to B\n",
      "{'A': [], 'B': [5, 2, 1], 'C': [4, 3]}\n",
      "Move ring 3 from C to A\n",
      "{'A': [3], 'B': [5, 2, 1], 'C': [4]}\n",
      "Move ring 1 from B to C\n",
      "{'A': [3], 'B': [5, 2], 'C': [4, 1]}\n",
      "Move ring 2 from B to A\n",
      "{'A': [3, 2], 'B': [5], 'C': [4, 1]}\n",
      "Move ring 1 from C to A\n",
      "{'A': [3, 2, 1], 'B': [5], 'C': [4]}\n",
      "Move ring 4 from C to B\n",
      "{'A': [3, 2, 1], 'B': [5, 4], 'C': []}\n",
      "Move ring 1 from A to B\n",
      "{'A': [3, 2], 'B': [5, 4, 1], 'C': []}\n",
      "Move ring 2 from A to C\n",
      "{'A': [3], 'B': [5, 4, 1], 'C': [2]}\n",
      "Move ring 1 from B to C\n",
      "{'A': [3], 'B': [5, 4], 'C': [2, 1]}\n",
      "Move ring 3 from A to B\n",
      "{'A': [], 'B': [5, 4, 3], 'C': [2, 1]}\n",
      "Move ring 1 from C to A\n",
      "{'A': [1], 'B': [5, 4, 3], 'C': [2]}\n",
      "Move ring 2 from C to B\n",
      "{'A': [1], 'B': [5, 4, 3, 2], 'C': []}\n",
      "Move ring 1 from A to B\n"
     ]
    },
    {
     "data": {
      "text/plain": [
       "26"
      ]
     },
     "execution_count": 10,
     "metadata": {},
     "output_type": "execute_result"
    }
   ],
   "execution_count": 10
  }
 ],
 "metadata": {
  "kernelspec": {
   "display_name": "Python 3",
   "language": "python",
   "name": "python3"
  },
  "language_info": {
   "codemirror_mode": {
    "name": "ipython",
    "version": 2
   },
   "file_extension": ".py",
   "mimetype": "text/x-python",
   "name": "python",
   "nbconvert_exporter": "python",
   "pygments_lexer": "ipython2",
   "version": "2.7.6"
  }
 },
 "nbformat": 4,
 "nbformat_minor": 5
}
